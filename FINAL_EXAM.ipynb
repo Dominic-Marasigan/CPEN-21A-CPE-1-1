{
  "nbformat": 4,
  "nbformat_minor": 0,
  "metadata": {
    "colab": {
      "name": "FINAL EXAM.ipynb",
      "provenance": [],
      "collapsed_sections": [],
      "authorship_tag": "ABX9TyN8X3ICgr8PVLsouTkh4JsB",
      "include_colab_link": true
    },
    "kernelspec": {
      "name": "python3",
      "display_name": "Python 3"
    },
    "language_info": {
      "name": "python"
    }
  },
  "cells": [
    {
      "cell_type": "markdown",
      "metadata": {
        "id": "view-in-github",
        "colab_type": "text"
      },
      "source": [
        "<a href=\"https://colab.research.google.com/github/Dominic-Marasigan/CPEN-21A-CPE-1-1/blob/main/FINAL_EXAM.ipynb\" target=\"_parent\"><img src=\"https://colab.research.google.com/assets/colab-badge.svg\" alt=\"Open In Colab\"/></a>"
      ]
    },
    {
      "cell_type": "markdown",
      "source": [
        "#**FINAL EXAM** \n",
        "###Control and Looping Statement\n",
        "######Dominic Z. Marasigan\n",
        "######BS CPE 1-1"
      ],
      "metadata": {
        "id": "0lI2WT94zEbN"
      }
    },
    {
      "cell_type": "markdown",
      "source": [
        "##### PROBLEM STATEMENT 1\n"
      ],
      "metadata": {
        "id": "WooPXSk3j5nT"
      }
    },
    {
      "cell_type": "code",
      "source": [
        "num = [-5, -4, -3, -2, -1, 0, 1, 2, 3, 4,]\n",
        "sum = 0\n",
        "for x in (num):\n",
        "    sum = sum + x\n",
        "print(\"The sum of 10 numbers less than 5 is:\", sum)"
      ],
      "metadata": {
        "id": "DWFx1Vv6WumO",
        "colab": {
          "base_uri": "https://localhost:8080/"
        },
        "outputId": "cd9cebdb-409c-4468-f1e4-e94f5f9bf4e5"
      },
      "execution_count": null,
      "outputs": [
        {
          "output_type": "stream",
          "name": "stdout",
          "text": [
            "The sum of 10 numbers less than 5 is: -5\n"
          ]
        }
      ]
    },
    {
      "cell_type": "code",
      "source": [
        "sum = 0\n",
        "for x in range (-5,5):\n",
        "    sum = sum + x\n",
        "print(\"The sum of 10 numbers less than 5 is:\",sum)"
      ],
      "metadata": {
        "id": "7XjTQPLhW8Pm",
        "colab": {
          "base_uri": "https://localhost:8080/"
        },
        "outputId": "505057ad-7ca3-487c-cb38-33803f35f4de"
      },
      "execution_count": null,
      "outputs": [
        {
          "output_type": "stream",
          "name": "stdout",
          "text": [
            "The sum of 10 numbers less than 5 is: -5\n"
          ]
        }
      ]
    },
    {
      "cell_type": "markdown",
      "source": [
        "#####  PROBLEM STATEMENT 2\n",
        "\n"
      ],
      "metadata": {
        "id": "x_0l4D4VkDsB"
      }
    },
    {
      "cell_type": "code",
      "source": [
        "print(\"Enter five numbers:\")\n",
        "num = []\n",
        "count = 0\n",
        "\n",
        "while len(num) != 5:\n",
        "  user_input = float(input(f\"Enter value no. {count+1}= \"))\n",
        "  count += 1\n",
        "  num.append(user_input)\n",
        "sum = num[0] + num[-1]\n",
        "\n",
        "print(\"You entered the numbers:\",num)\n",
        "print(\"The sum of first and last number is:\", sum)"
      ],
      "metadata": {
        "id": "AJ5bTl_dzXac",
        "colab": {
          "base_uri": "https://localhost:8080/"
        },
        "outputId": "70283736-303f-4fde-c4c2-d96e332b1185"
      },
      "execution_count": null,
      "outputs": [
        {
          "output_type": "stream",
          "name": "stdout",
          "text": [
            "Enter five numbers:\n",
            "Enter value no. 1= 45.6\n",
            "Enter value no. 2= 13\n",
            "Enter value no. 3= 9\n",
            "Enter value no. 4= 15\n",
            "Enter value no. 5= 56.1\n",
            "You entered the numbers: [45.6, 13.0, 9.0, 15.0, 56.1]\n",
            "The sum of first and last number is: 101.7\n"
          ]
        }
      ]
    },
    {
      "cell_type": "markdown",
      "source": [
        "##### Problem Statement 3\n",
        "\n"
      ],
      "metadata": {
        "id": "GSrkm-Xhk9u5"
      }
    },
    {
      "cell_type": "code",
      "source": [
        "num_grade = g = input(\"Enter your numerical grade : \")\n",
        "g = float(g)\n",
        "\n",
        "if g  >= 0 and g <= 100:\n",
        "    if  g >= 90:\n",
        "        print(\"Your grade is A\")\n",
        "    elif g  >=80:\n",
        "        print(\"Your grade is B\")\n",
        "    elif g >=70:\n",
        "        print(\"Your grade is C\")\n",
        "    elif g  >= 60:\n",
        "        print(\"Your grade is D\")\n",
        "    elif g < 60:\n",
        "        print(\"Your grade is F\")\n",
        "else:\n",
        "    print(\"Invalid Grade\")"
      ],
      "metadata": {
        "id": "-PmpsjDYgDhr",
        "colab": {
          "base_uri": "https://localhost:8080/"
        },
        "outputId": "b3a1997f-edea-40bd-f0df-fe49b82f7dc2"
      },
      "execution_count": 35,
      "outputs": [
        {
          "output_type": "stream",
          "name": "stdout",
          "text": [
            "Enter your numerical grade : 97.6\n",
            "Your grade is A\n"
          ]
        }
      ]
    }
  ]
}