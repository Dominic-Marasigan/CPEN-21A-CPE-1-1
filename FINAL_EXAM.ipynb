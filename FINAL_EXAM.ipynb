{
  "nbformat": 4,
  "nbformat_minor": 0,
  "metadata": {
    "colab": {
      "name": "FINAL EXAM.ipynb",
      "provenance": [],
      "collapsed_sections": [],
      "authorship_tag": "ABX9TyPZBSnZUum4OLqkZtLk9iiB",
      "include_colab_link": true
    },
    "kernelspec": {
      "name": "python3",
      "display_name": "Python 3"
    },
    "language_info": {
      "name": "python"
    }
  },
  "cells": [
    {
      "cell_type": "markdown",
      "metadata": {
        "id": "view-in-github",
        "colab_type": "text"
      },
      "source": [
        "<a href=\"https://colab.research.google.com/github/Dominic-Marasigan/CPEN-21A-CPE-1-1/blob/main/FINAL_EXAM.ipynb\" target=\"_parent\"><img src=\"https://colab.research.google.com/assets/colab-badge.svg\" alt=\"Open In Colab\"/></a>"
      ]
    },
    {
      "cell_type": "markdown",
      "source": [
        "#**Final Exam** "
      ],
      "metadata": {
        "id": "0lI2WT94zEbN"
      }
    },
    {
      "cell_type": "markdown",
      "source": [
        "##### PROBLEM STATEMENT 1\n",
        "###### Create a Python program that will produce an output of sum of 10 numbers less than 5 using FOR LOOP statement."
      ],
      "metadata": {
        "id": "WooPXSk3j5nT"
      }
    },
    {
      "cell_type": "code",
      "source": [
        "sum = 0\n",
        "num = [-5, -4, -3, -2, -1, 0, 1, 2, 3, 4,]\n",
        "for x in (num):\n",
        "    sum = sum + x\n",
        "print(\"The sum of 10 numbers less than 5 is:\", sum)"
      ],
      "metadata": {
        "id": "DWFx1Vv6WumO",
        "colab": {
          "base_uri": "https://localhost:8080/"
        },
        "outputId": "76585e60-c3cb-426d-aad6-bbb4ace5e3ee"
      },
      "execution_count": null,
      "outputs": [
        {
          "output_type": "stream",
          "name": "stdout",
          "text": [
            "The sum of 10 numbers less than 5 is: -5\n"
          ]
        }
      ]
    },
    {
      "cell_type": "code",
      "source": [
        "sum = 0\n",
        "for x in range (-5,5):\n",
        "    sum = sum + x\n",
        "print(\"The sum of 10 numbers less than 5 is:\",sum)"
      ],
      "metadata": {
        "id": "7XjTQPLhW8Pm",
        "colab": {
          "base_uri": "https://localhost:8080/"
        },
        "outputId": "b6b794d0-74ce-48b0-8e0a-934c5a102f9d"
      },
      "execution_count": null,
      "outputs": [
        {
          "output_type": "stream",
          "name": "stdout",
          "text": [
            "The sum of 10 numbers less than 5 is: -5\n"
          ]
        }
      ]
    },
    {
      "cell_type": "markdown",
      "source": [
        "#####  PROBLEM STATEMENT 2\n",
        "###### Create a Python program that will  accept five numbers and determine the sum of first and last number among the five numbers entered using WHILE LOOP.\n",
        "\n"
      ],
      "metadata": {
        "id": "x_0l4D4VkDsB"
      }
    },
    {
      "cell_type": "code",
      "source": [
        "num = []\n",
        "\n",
        "while len(num) != 5:\n",
        "  user_input = int(input(\"Enter a number: \"))\n",
        "  num.append(user_input)\n",
        "sum = num[0] + num[-1]\n",
        "\n",
        "print(\"You entered the numbers:\",num)\n",
        "print(\"The sum of first and last number is:\", sum)"
      ],
      "metadata": {
        "id": "AJ5bTl_dzXac",
        "colab": {
          "base_uri": "https://localhost:8080/"
        },
        "outputId": "41fc0a33-80a2-46f6-fc3a-720b6103806c"
      },
      "execution_count": null,
      "outputs": [
        {
          "output_type": "stream",
          "name": "stdout",
          "text": [
            "Enter a number: 124\n",
            "Enter a number: 235\n",
            "Enter a number: 456\n",
            "Enter a number: 56\n",
            "Enter a number: 9\n",
            "You entered the numbers: [124, 235, 456, 56, 9]\n",
            "The sum of first and last number is: 133\n"
          ]
        }
      ]
    },
    {
      "cell_type": "code",
      "source": [
        "len = []\n",
        "sum = 0\n",
        "while True:\n",
        "    x = 6\n",
        "    for x in range (x):\n",
        "        if x > 0:\n",
        "            num = int(input(\"Enter a number :\"))\n",
        "            len.append(num)\n",
        "            s = len[0]\n",
        "            sum = s + num\n",
        "    else:\n",
        "        break\n",
        "\n",
        "print(\"You entered the numbers:\", len)\n",
        "print(\"The sum of first and last number is:\", sum)"
      ],
      "metadata": {
        "id": "pcB73wN1rOgH",
        "colab": {
          "base_uri": "https://localhost:8080/"
        },
        "outputId": "60a7ab5b-fbf3-4f3e-9957-e2e04be2b0f6"
      },
      "execution_count": null,
      "outputs": [
        {
          "output_type": "stream",
          "name": "stdout",
          "text": [
            "Enter a number :123\n",
            "Enter a number :1243\n",
            "Enter a number :124\n",
            "Enter a number :45\n",
            "Enter a number :1\n",
            "You entered the numbers: [123, 1243, 124, 45, 1]\n",
            "The sum of first and last number is: 124\n"
          ]
        }
      ]
    },
    {
      "cell_type": "code",
      "source": [
        "count = 0\n",
        "save_numbers = []\n",
        "while count<5:\n",
        "    try:\n",
        "        num_input = int(input(f\"Enter the number {count+1}:  \"))\n",
        "        count+=1\n",
        "        save_numbers.append(num_input)\n",
        "    except:\n",
        "      print(\"invalid input, please enter a numerical value\")\n",
        "print(\"You entered the numbers:\",save_numbers)\n",
        "print(\"The sum of first and last number is: \", save_numbers[0] + save_numbers[-1])"
      ],
      "metadata": {
        "id": "CFmkQh1OeJ2E",
        "colab": {
          "base_uri": "https://localhost:8080/"
        },
        "outputId": "a3fcad75-e77a-4f09-d1e4-8899de58c6f4"
      },
      "execution_count": null,
      "outputs": [
        {
          "output_type": "stream",
          "name": "stdout",
          "text": [
            "Enter the number 1:  345\n",
            "Enter the number 2:  67\n",
            "Enter the number 3:  32\n",
            "Enter the number 4:  2\n",
            "Enter the number 5:  54\n",
            "You entered the numbers: [345, 67, 32, 2, 54]\n",
            "The sum of first and last number is:  399\n"
          ]
        }
      ]
    },
    {
      "cell_type": "markdown",
      "source": [
        "##### Problem Statement 3\n",
        "######Create a Python program to calculate student grades. It accepts a numerical grade as input and it will display the character grade as output based on the given scale. (Use Nested-IF-Else Statement)\n"
      ],
      "metadata": {
        "id": "GSrkm-Xhk9u5"
      }
    },
    {
      "cell_type": "code",
      "source": [
        "num_grade = g = input(\"Enter your numerical grade : \")\n",
        "g = int(g)\n",
        "\n",
        "if g  >= 0 and g <= 100:\n",
        "    if  g >= 90:\n",
        "        print(\"Remark is A\")\n",
        "    elif g  >=80:\n",
        "        print(\"Remark is B\")\n",
        "    elif g >=70:\n",
        "        print(\"Remark is C\")\n",
        "    elif g  >= 60:\n",
        "        print(\"Remark is D\")\n",
        "    elif g < 60:\n",
        "        print(\"Remark is F\")\n",
        "else:\n",
        "    print(\"Invalid Grade\")"
      ],
      "metadata": {
        "id": "-PmpsjDYgDhr",
        "colab": {
          "base_uri": "https://localhost:8080/"
        },
        "outputId": "03198cde-9a7d-4a36-89d5-08b9b6c1875c"
      },
      "execution_count": 13,
      "outputs": [
        {
          "output_type": "stream",
          "name": "stdout",
          "text": [
            "Enter your numerical grade : 98\n",
            "Remark is A\n"
          ]
        }
      ]
    }
  ]
}