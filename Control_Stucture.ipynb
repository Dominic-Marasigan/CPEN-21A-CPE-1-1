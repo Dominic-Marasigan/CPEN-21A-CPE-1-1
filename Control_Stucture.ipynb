{
  "nbformat": 4,
  "nbformat_minor": 0,
  "metadata": {
    "colab": {
      "name": "Control Stucture.ipynb",
      "provenance": [],
      "collapsed_sections": [],
      "authorship_tag": "ABX9TyNUOcmWIGiPs0uxl2r61sJd",
      "include_colab_link": true
    },
    "kernelspec": {
      "name": "python3",
      "display_name": "Python 3"
    },
    "language_info": {
      "name": "python"
    }
  },
  "cells": [
    {
      "cell_type": "markdown",
      "metadata": {
        "id": "view-in-github",
        "colab_type": "text"
      },
      "source": [
        "<a href=\"https://colab.research.google.com/github/Dominic-Marasigan/CPEN-21A-CPE-1-1/blob/main/Control_Stucture.ipynb\" target=\"_parent\"><img src=\"https://colab.research.google.com/assets/colab-badge.svg\" alt=\"Open In Colab\"/></a>"
      ]
    },
    {
      "cell_type": "markdown",
      "metadata": {
        "id": "YTJcM7I2nDsX"
      },
      "source": [
        "###If Condition\n"
      ]
    },
    {
      "cell_type": "code",
      "metadata": {
        "colab": {
          "base_uri": "https://localhost:8080/"
        },
        "id": "WN2Wq8GVlZ6B",
        "outputId": "a1af1cdd-b402-47d3-e8a7-1c9b1f236f3c"
      },
      "source": [
        "a = 12\n",
        "b = 100\n",
        "\n",
        "if b > a:\n",
        "  print(\"b is greater than a\")\n"
      ],
      "execution_count": null,
      "outputs": [
        {
          "output_type": "stream",
          "name": "stdout",
          "text": [
            "b is greater than a\n"
          ]
        }
      ]
    },
    {
      "cell_type": "markdown",
      "metadata": {
        "id": "BwIC96_loZG3"
      },
      "source": [
        "###Elif Condition"
      ]
    },
    {
      "cell_type": "code",
      "metadata": {
        "colab": {
          "base_uri": "https://localhost:8080/"
        },
        "id": "IF4P7tL7oaav",
        "outputId": "94b51682-748a-46e2-e9b1-54af185d79ff"
      },
      "source": [
        "a = 12\n",
        "b = 12\n",
        "\n",
        "if b > a:\n",
        "  print(\"b is greater than a\")\n",
        "elif a== b:\n",
        "    print(\"a is equal to b\")"
      ],
      "execution_count": null,
      "outputs": [
        {
          "output_type": "stream",
          "name": "stdout",
          "text": [
            "a is equal to b\n"
          ]
        }
      ]
    },
    {
      "cell_type": "markdown",
      "metadata": {
        "id": "Sg9J8hcepOcl"
      },
      "source": [
        "###Else Condition\n"
      ]
    },
    {
      "cell_type": "code",
      "metadata": {
        "colab": {
          "base_uri": "https://localhost:8080/"
        },
        "id": "eWZES42fpRa2",
        "outputId": "f8e708d6-5e08-4a14-8df7-ae1a2ecb2255"
      },
      "source": [
        "a = 120\n",
        "b = 12\n",
        "\n",
        "if b > a:\n",
        "  print(\"b is greater than a\")\n",
        "elif a== b:\n",
        "    print(\"a is equal to b\")\n",
        "else:                                                   #no more operation, automatic\n",
        "  print(\"b is less than a\")"
      ],
      "execution_count": null,
      "outputs": [
        {
          "output_type": "stream",
          "name": "stdout",
          "text": [
            "b is less than a\n"
          ]
        }
      ]
    },
    {
      "cell_type": "markdown",
      "metadata": {
        "id": "A4zpfFXaqSa1"
      },
      "source": [
        "###Short Hand If Statement"
      ]
    },
    {
      "cell_type": "code",
      "metadata": {
        "colab": {
          "base_uri": "https://localhost:8080/"
        },
        "id": "70ai4FUWqYW8",
        "outputId": "d09ee3df-b866-48cb-cd61-37902e0b2f43"
      },
      "source": [
        "if a>b: print(\"a is greater than b\")"
      ],
      "execution_count": null,
      "outputs": [
        {
          "output_type": "stream",
          "name": "stdout",
          "text": [
            "a is greater than b\n"
          ]
        }
      ]
    },
    {
      "cell_type": "markdown",
      "metadata": {
        "id": "UbAhdKjwrLD1"
      },
      "source": [
        "###Short Hand If Else Statement"
      ]
    },
    {
      "cell_type": "code",
      "metadata": {
        "colab": {
          "base_uri": "https://localhost:8080/"
        },
        "id": "HjFTj8sGrR-D",
        "outputId": "4f36c092-723e-4d31-a077-4670d728cc7a"
      },
      "source": [
        "print(\"a is greater than b\") if a>b else print(\"b is less than a \" ) #no more colon"
      ],
      "execution_count": null,
      "outputs": [
        {
          "output_type": "stream",
          "name": "stdout",
          "text": [
            "a is greater than b\n"
          ]
        }
      ]
    },
    {
      "cell_type": "markdown",
      "metadata": {
        "id": "RGBXBqyks1Zk"
      },
      "source": [
        "And Condition"
      ]
    },
    {
      "cell_type": "code",
      "metadata": {
        "colab": {
          "base_uri": "https://localhost:8080/"
        },
        "id": "qMbtVy8LtGFS",
        "outputId": "87ef38a8-0238-44b8-f25a-2b8ad833aace"
      },
      "source": [
        "a = 35\n",
        "b = 15\n",
        "\n",
        "if  b > a  and a < b:\n",
        "  print(\"Both conditions are True\")\n",
        "elif b<a and a > b:\n",
        "  print(\"Both conditions are False\")\n",
        "else:\n",
        "  print(\"none of the above\")"
      ],
      "execution_count": null,
      "outputs": [
        {
          "output_type": "stream",
          "name": "stdout",
          "text": [
            "Both conditions are False\n"
          ]
        }
      ]
    },
    {
      "cell_type": "markdown",
      "metadata": {
        "id": "6ujDfZNwvMlC"
      },
      "source": [
        "Or Condition"
      ]
    },
    {
      "cell_type": "code",
      "metadata": {
        "colab": {
          "base_uri": "https://localhost:8080/"
        },
        "id": "7z4sAFC6vPR4",
        "outputId": "bb1700e4-ad94-475f-a6fc-8111b8d4ddc1"
      },
      "source": [
        "a = 35\n",
        "b = 20\n",
        "\n",
        "if  b>a  or a==b:\n",
        "  print(\"True\")\n",
        "elif  b==a or a>b:\n",
        "  print(\"False\")\n",
        "else:\n",
        "  print(\"Nothing to compare\")"
      ],
      "execution_count": null,
      "outputs": [
        {
          "output_type": "stream",
          "name": "stdout",
          "text": [
            "False\n"
          ]
        }
      ]
    },
    {
      "cell_type": "markdown",
      "metadata": {
        "id": "UdtGBDGhwwLw"
      },
      "source": [
        "###Nested If Statements"
      ]
    },
    {
      "cell_type": "code",
      "metadata": {
        "colab": {
          "base_uri": "https://localhost:8080/"
        },
        "id": "Qj89adFawzHf",
        "outputId": "a2724bd5-dcbd-4557-f366-4d6b38d864ee"
      },
      "source": [
        "x = 30\n",
        "\n",
        "if x>10:\n",
        "  print(\"Above 10\")\n",
        "  if x>20:\n",
        "    print(\"Above 20\")\n",
        "  else:\n",
        "    print(\"Not Above 20\")"
      ],
      "execution_count": null,
      "outputs": [
        {
          "output_type": "stream",
          "name": "stdout",
          "text": [
            "Above 10\n",
            "Above 20\n"
          ]
        }
      ]
    },
    {
      "cell_type": "markdown",
      "metadata": {
        "id": "Si36oOq9yF3W"
      },
      "source": [
        "Application of If..Else Statement"
      ]
    },
    {
      "cell_type": "code",
      "metadata": {
        "colab": {
          "base_uri": "https://localhost:8080/"
        },
        "id": "gPQ237LByJqO",
        "outputId": "0b4c9e48-b2f9-48e2-e4ad-f572df82d759"
      },
      "source": [
        "#Example 1\n",
        "\n",
        "age =int(input(\"Enter your age : \"))\n",
        "\n",
        "if age>=18:\n",
        "  print(\"You are qualified to vote!\")\n",
        "else:\n",
        "  print(\"You are not qualified to vote!\")"
      ],
      "execution_count": null,
      "outputs": [
        {
          "output_type": "stream",
          "name": "stdout",
          "text": [
            "Enter your age : 12\n",
            "You are not qualified to vote!\n"
          ]
        }
      ]
    },
    {
      "cell_type": "code",
      "metadata": {
        "colab": {
          "base_uri": "https://localhost:8080/"
        },
        "id": "LtFAJodxzPwh",
        "outputId": "e1a5598e-5919-4635-8fbd-13c26305335e"
      },
      "source": [
        "#Example 2\n",
        "\n",
        "number = int(input(\"Enter a number: \"))\n",
        "\n",
        "if number>0:\n",
        "  print(\"The number is positive\")\n",
        "elif number <0:\n",
        "  print(\"The number is negative\")\n",
        "else:\n",
        "  print(\"Thenumber is zero\")"
      ],
      "execution_count": null,
      "outputs": [
        {
          "output_type": "stream",
          "name": "stdout",
          "text": [
            "Enter a number: 2\n",
            "The number is positive\n"
          ]
        }
      ]
    },
    {
      "cell_type": "code",
      "metadata": {
        "colab": {
          "base_uri": "https://localhost:8080/"
        },
        "id": "zLOuwCL-0OUk",
        "outputId": "3c71d67e-5479-4e5b-d399-2a6fa48a414b"
      },
      "source": [
        "#Example 3\n",
        "\n",
        "grade = float(input(\"Enter  your grade :\"))\n",
        "if grade >= 75.00:\n",
        "        print(\"Passed\")\n",
        "elif grade >= 74.00:\n",
        "        print(\"Remedial\")\n",
        "else:\n",
        "        print(\"Failed\")\n"
      ],
      "execution_count": 4,
      "outputs": [
        {
          "output_type": "stream",
          "name": "stdout",
          "text": [
            "Enter  your grade :76\n",
            "Passed\n"
          ]
        }
      ]
    }
  ]
}