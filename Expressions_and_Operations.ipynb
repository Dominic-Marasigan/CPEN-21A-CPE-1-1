{
  "nbformat": 4,
  "nbformat_minor": 0,
  "metadata": {
    "colab": {
      "name": "Expressions and Operations.ipynb",
      "provenance": [],
      "collapsed_sections": [],
      "authorship_tag": "ABX9TyNlRJRBEutXrz4YWC/FGmbV",
      "include_colab_link": true
    },
    "kernelspec": {
      "name": "python3",
      "display_name": "Python 3"
    },
    "language_info": {
      "name": "python"
    }
  },
  "cells": [
    {
      "cell_type": "markdown",
      "metadata": {
        "id": "view-in-github",
        "colab_type": "text"
      },
      "source": [
        "<a href=\"https://colab.research.google.com/github/Dominic-Marasigan/CPEN-21A-CPE-1-1/blob/main/Expressions_and_Operations.ipynb\" target=\"_parent\"><img src=\"https://colab.research.google.com/assets/colab-badge.svg\" alt=\"Open In Colab\"/></a>"
      ]
    },
    {
      "cell_type": "markdown",
      "metadata": {
        "id": "A_fPj-vgf7CQ"
      },
      "source": [
        "##Boolean Operations\n",
        "####Booleans represent one of two values: True or False"
      ]
    },
    {
      "cell_type": "code",
      "metadata": {
        "colab": {
          "base_uri": "https://localhost:8080/"
        },
        "id": "PdnjwVQ_gMBg",
        "outputId": "6ebd450a-3d45-48ed-8198-d0b2697ca248"
      },
      "source": [
        "print(24==25)\n",
        "print(25!=24)\n",
        "print(26> 25)\n",
        "print(1==2)"
      ],
      "execution_count": 5,
      "outputs": [
        {
          "output_type": "stream",
          "name": "stdout",
          "text": [
            "False\n",
            "True\n",
            "True\n",
            "False\n"
          ]
        }
      ]
    },
    {
      "cell_type": "code",
      "metadata": {
        "colab": {
          "base_uri": "https://localhost:8080/"
        },
        "id": "4gVfQMseguVp",
        "outputId": "bcbb0ed0-8cd1-4bec-c7a3-0d370c6eb95e"
      },
      "source": [
        "print(bool(True))\n",
        "print(bool(False))\n",
        "print(bool(1))\n",
        "print(bool(0))\n",
        "print(bool([]))\n",
        "print(bool(None))"
      ],
      "execution_count": 11,
      "outputs": [
        {
          "output_type": "stream",
          "name": "stdout",
          "text": [
            "True\n",
            "False\n",
            "True\n",
            "False\n",
            "False\n",
            "False\n"
          ]
        }
      ]
    },
    {
      "cell_type": "code",
      "metadata": {
        "colab": {
          "base_uri": "https://localhost:8080/"
        },
        "id": "TGC3QVfhhkkB",
        "outputId": "abdf276d-d77f-40d2-eb43-d20628297f3e"
      },
      "source": [
        "def Dominic_Function (): return True\n",
        "\n",
        "print(Dominic_Function())"
      ],
      "execution_count": 15,
      "outputs": [
        {
          "output_type": "stream",
          "name": "stdout",
          "text": [
            "True\n"
          ]
        }
      ]
    },
    {
      "cell_type": "code",
      "metadata": {
        "colab": {
          "base_uri": "https://localhost:8080/"
        },
        "id": "LEwVUc1xiMPn",
        "outputId": "a78f7a99-baf8-4466-f28e-21f3846adba3"
      },
      "source": [
        "#Boolean answer of a function\n",
        "\n",
        "def Dominic_Function (): return True\n",
        "if Dominic_Function():\n",
        "  print(\"Yes\")\n",
        "else:\n",
        "  print(\"No\")\n",
        "\n",
        "print(Dominic_Function())"
      ],
      "execution_count": 70,
      "outputs": [
        {
          "output_type": "stream",
          "name": "stdout",
          "text": [
            "Yes\n",
            "True\n"
          ]
        }
      ]
    },
    {
      "cell_type": "code",
      "metadata": {
        "colab": {
          "base_uri": "https://localhost:8080/"
        },
        "id": "D2cO6ZViis44",
        "outputId": "b036ebdd-fda9-4a05-dbd9-a1f992272640"
      },
      "source": [
        "a = 1\n",
        "b = 2\n",
        "\n",
        "print(a==b)\n",
        "print(a!=b)\n"
      ],
      "execution_count": 69,
      "outputs": [
        {
          "output_type": "stream",
          "name": "stdout",
          "text": [
            "False\n",
            "True\n"
          ]
        }
      ]
    },
    {
      "cell_type": "markdown",
      "metadata": {
        "id": "1IAU0BRej7XX"
      },
      "source": [
        "##Python Operator"
      ]
    },
    {
      "cell_type": "code",
      "metadata": {
        "colab": {
          "base_uri": "https://localhost:8080/"
        },
        "id": "mkPSy4kMjvh4",
        "outputId": "b1fc6fc5-db2d-4646-f855-7749f603cbbd"
      },
      "source": [
        "print(2+2) # Addition\n",
        "print(2-2) # Subtraction\n",
        "print(2*2)# Multiplication\n",
        "print(2/2)# Division\n",
        "print(5//2)# Floor Division\n",
        "print(5%2)# Modulo\n",
        "print(10**10)# Exponent"
      ],
      "execution_count": 68,
      "outputs": [
        {
          "output_type": "stream",
          "name": "stdout",
          "text": [
            "4\n",
            "0\n",
            "4\n",
            "1.0\n",
            "2\n",
            "1\n",
            "10000000000\n"
          ]
        }
      ]
    },
    {
      "cell_type": "code",
      "metadata": {
        "colab": {
          "base_uri": "https://localhost:8080/"
        },
        "id": "7WTxJl50lFXY",
        "outputId": "3a7dbbac-877e-423f-d1ab-98561fc4a68c"
      },
      "source": [
        "a = 60    #0011 1100  \n",
        "b = 13\n",
        "print(a&b)\n",
        "print(a|b)\n",
        "print(a<<1) # 0111 1000 \n",
        "print(a<<2) # 1111 0000\n",
        "print(a>>1) # 0001 1110"
      ],
      "execution_count": 67,
      "outputs": [
        {
          "output_type": "stream",
          "name": "stdout",
          "text": [
            "12\n",
            "61\n",
            "120\n",
            "240\n",
            "30\n"
          ]
        }
      ]
    },
    {
      "cell_type": "code",
      "metadata": {
        "id": "OIV7JyCpqI8Q"
      },
      "source": [
        "a+=3\n",
        "print(a)"
      ],
      "execution_count": null,
      "outputs": []
    },
    {
      "cell_type": "markdown",
      "metadata": {
        "id": "wI5hj4HAqfV2"
      },
      "source": [
        "##Logical Operator\n"
      ]
    },
    {
      "cell_type": "code",
      "metadata": {
        "colab": {
          "base_uri": "https://localhost:8080/"
        },
        "id": "5597O08DqiEO",
        "outputId": "52c9e261-1a01-4b80-d18e-c06b5141e4bc"
      },
      "source": [
        "a = True\n",
        "b = False \n",
        "print(a and b)\n",
        "print(a or b)\n",
        "print(not a or b)"
      ],
      "execution_count": 71,
      "outputs": [
        {
          "output_type": "stream",
          "name": "stdout",
          "text": [
            "False\n",
            "True\n",
            "False\n"
          ]
        }
      ]
    },
    {
      "cell_type": "code",
      "metadata": {
        "colab": {
          "base_uri": "https://localhost:8080/"
        },
        "id": "oAw8a3-KsQeG",
        "outputId": "816beb48-0d66-4df6-d17d-eeaaeccab8a0"
      },
      "source": [
        "a = 60\n",
        "b = 13\n",
        "(a>b) or  (a<b)\n"
      ],
      "execution_count": 73,
      "outputs": [
        {
          "output_type": "execute_result",
          "data": {
            "text/plain": [
              "True"
            ]
          },
          "metadata": {},
          "execution_count": 73
        }
      ]
    },
    {
      "cell_type": "markdown",
      "metadata": {
        "id": "DsVrvHsnswKA"
      },
      "source": [
        "##Identity Operator"
      ]
    },
    {
      "cell_type": "code",
      "metadata": {
        "colab": {
          "base_uri": "https://localhost:8080/"
        },
        "id": "MnjkUrYQs3Gm",
        "outputId": "508cf334-af6a-4d07-f7c7-f97981f6943d"
      },
      "source": [
        "print(a is b)\n",
        "print(a is not b)"
      ],
      "execution_count": 66,
      "outputs": [
        {
          "output_type": "stream",
          "name": "stdout",
          "text": [
            "False\n",
            "True\n"
          ]
        }
      ]
    }
  ]
}