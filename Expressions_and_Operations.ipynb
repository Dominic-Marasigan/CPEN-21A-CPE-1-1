{
  "nbformat": 4,
  "nbformat_minor": 0,
  "metadata": {
    "colab": {
      "name": "Expressions and Operations.ipynb",
      "provenance": [],
      "collapsed_sections": [],
      "authorship_tag": "ABX9TyPDwyUwyWtSyD9sxTH9+dcf",
      "include_colab_link": true
    },
    "kernelspec": {
      "name": "python3",
      "display_name": "Python 3"
    },
    "language_info": {
      "name": "python"
    }
  },
  "cells": [
    {
      "cell_type": "markdown",
      "metadata": {
        "id": "view-in-github",
        "colab_type": "text"
      },
      "source": [
        "<a href=\"https://colab.research.google.com/github/Dominic-Marasigan/CPEN-21A-CPE-1-1/blob/main/Expressions_and_Operations.ipynb\" target=\"_parent\"><img src=\"https://colab.research.google.com/assets/colab-badge.svg\" alt=\"Open In Colab\"/></a>"
      ]
    },
    {
      "cell_type": "markdown",
      "metadata": {
        "id": "A_fPj-vgf7CQ"
      },
      "source": [
        "##Boolean Operations\n",
        "####Booleans represent one of two values: True or False"
      ]
    },
    {
      "cell_type": "code",
      "metadata": {
        "colab": {
          "base_uri": "https://localhost:8080/"
        },
        "id": "PdnjwVQ_gMBg",
        "outputId": "6ebd450a-3d45-48ed-8198-d0b2697ca248"
      },
      "source": [
        "print(24==25)\n",
        "print(25!=24)\n",
        "print(26> 25)\n",
        "print(1==2)"
      ],
      "execution_count": 5,
      "outputs": [
        {
          "output_type": "stream",
          "name": "stdout",
          "text": [
            "False\n",
            "True\n",
            "True\n",
            "False\n"
          ]
        }
      ]
    },
    {
      "cell_type": "code",
      "metadata": {
        "colab": {
          "base_uri": "https://localhost:8080/"
        },
        "id": "4gVfQMseguVp",
        "outputId": "bcbb0ed0-8cd1-4bec-c7a3-0d370c6eb95e"
      },
      "source": [
        "print(bool(True))\n",
        "print(bool(False))\n",
        "print(bool(1))\n",
        "print(bool(0))\n",
        "print(bool([]))\n",
        "print(bool(None))"
      ],
      "execution_count": 11,
      "outputs": [
        {
          "output_type": "stream",
          "name": "stdout",
          "text": [
            "True\n",
            "False\n",
            "True\n",
            "False\n",
            "False\n",
            "False\n"
          ]
        }
      ]
    },
    {
      "cell_type": "code",
      "metadata": {
        "colab": {
          "base_uri": "https://localhost:8080/"
        },
        "id": "TGC3QVfhhkkB",
        "outputId": "abdf276d-d77f-40d2-eb43-d20628297f3e"
      },
      "source": [
        "def Dominic_Function (): return True\n",
        "\n",
        "print(Dominic_Function())"
      ],
      "execution_count": 15,
      "outputs": [
        {
          "output_type": "stream",
          "name": "stdout",
          "text": [
            "True\n"
          ]
        }
      ]
    },
    {
      "cell_type": "code",
      "metadata": {
        "colab": {
          "base_uri": "https://localhost:8080/"
        },
        "id": "LEwVUc1xiMPn",
        "outputId": "ae73d362-0b62-4add-f983-25cc050c54cd"
      },
      "source": [
        "#Boolean answer of a function\n",
        "\n",
        "def Dominic_Function (): return True\n",
        "if Dominic_Function():\n",
        "  print(\"Yes\")\n",
        "else:\n",
        "  print(\"No\")\n",
        "\n",
        "print(Dominic_Function())"
      ],
      "execution_count": 18,
      "outputs": [
        {
          "output_type": "stream",
          "name": "stdout",
          "text": [
            "Yes\n",
            "True\n"
          ]
        }
      ]
    },
    {
      "cell_type": "code",
      "metadata": {
        "id": "D2cO6ZViis44"
      },
      "source": [
        "a = 1\n",
        "b = 2\n",
        "\n",
        "print(a==b)\n",
        "print(a!=b)\n"
      ],
      "execution_count": null,
      "outputs": []
    },
    {
      "cell_type": "markdown",
      "metadata": {
        "id": "1IAU0BRej7XX"
      },
      "source": [
        "##Python Operator"
      ]
    },
    {
      "cell_type": "code",
      "metadata": {
        "id": "mkPSy4kMjvh4"
      },
      "source": [
        "print(2+2) # Addition\n",
        "print(2-2) # Subtraction\n",
        "print(2*2)# Multiplication\n",
        "print(2/2)# Division\n",
        "print(5//2)# Floor Division\n",
        "print(5%2)# Modulo\n",
        "print(10**10)# Exponent"
      ],
      "execution_count": null,
      "outputs": []
    },
    {
      "cell_type": "code",
      "metadata": {
        "id": "7WTxJl50lFXY"
      },
      "source": [
        "a = 60    #0011 1100  \n",
        "b = 13\n",
        "print(a&b)\n",
        "print(a|b)\n",
        "print(a<<1) # 0111 1000 \n",
        "print(a<<2) # 1111 0000\n",
        "print(a>>1) # 0001 1110"
      ],
      "execution_count": null,
      "outputs": []
    },
    {
      "cell_type": "code",
      "metadata": {
        "id": "OIV7JyCpqI8Q"
      },
      "source": [
        "a+=3\n",
        "print(a)"
      ],
      "execution_count": null,
      "outputs": []
    },
    {
      "cell_type": "markdown",
      "metadata": {
        "id": "wI5hj4HAqfV2"
      },
      "source": [
        "##Logical Operator\n"
      ]
    },
    {
      "cell_type": "code",
      "metadata": {
        "id": "5597O08DqiEO"
      },
      "source": [
        "a = True\n",
        "b = False \n",
        "print(a and b)\n",
        "print(a or b)\n",
        "print(not a or b)"
      ],
      "execution_count": null,
      "outputs": []
    },
    {
      "cell_type": "code",
      "metadata": {
        "colab": {
          "base_uri": "https://localhost:8080/"
        },
        "id": "oAw8a3-KsQeG",
        "outputId": "62925157-2289-48de-8a5b-7b9fdb8e0d8c"
      },
      "source": [
        "a = 60\n",
        "b = 13\n",
        "(a>b) and  (a<b)\n"
      ],
      "execution_count": 65,
      "outputs": [
        {
          "output_type": "execute_result",
          "data": {
            "text/plain": [
              "False"
            ]
          },
          "metadata": {},
          "execution_count": 65
        }
      ]
    },
    {
      "cell_type": "markdown",
      "metadata": {
        "id": "DsVrvHsnswKA"
      },
      "source": [
        "##Identity Operator"
      ]
    },
    {
      "cell_type": "code",
      "metadata": {
        "colab": {
          "base_uri": "https://localhost:8080/"
        },
        "id": "MnjkUrYQs3Gm",
        "outputId": "508cf334-af6a-4d07-f7c7-f97981f6943d"
      },
      "source": [
        "print(a is b)\n",
        "print(a is not b)"
      ],
      "execution_count": 66,
      "outputs": [
        {
          "output_type": "stream",
          "name": "stdout",
          "text": [
            "False\n",
            "True\n"
          ]
        }
      ]
    }
  ]
}