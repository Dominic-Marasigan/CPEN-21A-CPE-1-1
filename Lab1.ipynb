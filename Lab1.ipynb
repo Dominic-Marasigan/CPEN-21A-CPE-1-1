{
  "nbformat": 4,
  "nbformat_minor": 0,
  "metadata": {
    "colab": {
      "name": "Lab1.ipynb",
      "provenance": [],
      "authorship_tag": "ABX9TyOX73cYrepbcOJ31TVqp3f+",
      "include_colab_link": true
    },
    "kernelspec": {
      "name": "python3",
      "display_name": "Python 3"
    },
    "language_info": {
      "name": "python"
    }
  },
  "cells": [
    {
      "cell_type": "markdown",
      "metadata": {
        "id": "view-in-github",
        "colab_type": "text"
      },
      "source": [
        "<a href=\"https://colab.research.google.com/github/Dominic-Marasigan/CPEN-21A-CPE-1-1/blob/main/Lab1.ipynb\" target=\"_parent\"><img src=\"https://colab.research.google.com/assets/colab-badge.svg\" alt=\"Open In Colab\"/></a>"
      ]
    },
    {
      "cell_type": "markdown",
      "metadata": {
        "id": "0i0xXuLaVURE"
      },
      "source": [
        "###Laboratory 1"
      ]
    },
    {
      "cell_type": "code",
      "metadata": {
        "colab": {
          "base_uri": "https://localhost:8080/"
        },
        "id": "PVPEF9z4VYR8",
        "outputId": "65fe7ee8-7fd1-43f8-e2aa-ecdf7c9eb0e1"
      },
      "source": [
        "print (\"Welcome to Python Programming\")"
      ],
      "execution_count": 42,
      "outputs": [
        {
          "output_type": "stream",
          "name": "stdout",
          "text": [
            "Welcome to Python Programming\n"
          ]
        }
      ]
    },
    {
      "cell_type": "code",
      "metadata": {
        "colab": {
          "base_uri": "https://localhost:8080/"
        },
        "id": "zBn0Zb--VgGu",
        "outputId": "81edd8bd-71cc-4bce-b01d-5afe01470400"
      },
      "source": [
        "full_name = \"Dominic Z. Marasigan\"\n",
        "age = 19\n",
        "address = \"Blk 74 Lot 25 Sampaguita Village, Brgy. Inocencio, Trece Martires City, Cavite\"\n",
        "\n",
        "print (\"My name is\" \" \" + full_name)\n",
        "print (\"I am\" \" \" + str(age) + \" \"  \"years old\")\n",
        "print (\"I live in\" \" \" + str(address))"
      ],
      "execution_count": 45,
      "outputs": [
        {
          "output_type": "stream",
          "name": "stdout",
          "text": [
            "My name is Dominic Z. Marasigan\n",
            "I am 19 years old\n",
            "I live in Blk 74 Lot 25 Sampaguita Village, Brgy. Inocencio, Trece Martires City, Cavite\n"
          ]
        }
      ]
    }
  ]
}