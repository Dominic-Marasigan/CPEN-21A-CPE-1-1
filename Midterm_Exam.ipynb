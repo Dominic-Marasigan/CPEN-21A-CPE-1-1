{
  "nbformat": 4,
  "nbformat_minor": 0,
  "metadata": {
    "colab": {
      "name": "Midterm Exam.ipynb",
      "provenance": [],
      "authorship_tag": "ABX9TyOYQTv81DwkEecTcBWkWeDW",
      "include_colab_link": true
    },
    "kernelspec": {
      "name": "python3",
      "display_name": "Python 3"
    },
    "language_info": {
      "name": "python"
    }
  },
  "cells": [
    {
      "cell_type": "markdown",
      "metadata": {
        "id": "view-in-github",
        "colab_type": "text"
      },
      "source": [
        "<a href=\"https://colab.research.google.com/github/Dominic-Marasigan/CPEN-21A-CPE-1-1/blob/main/Midterm_Exam.ipynb\" target=\"_parent\"><img src=\"https://colab.research.google.com/assets/colab-badge.svg\" alt=\"Open In Colab\"/></a>"
      ]
    },
    {
      "cell_type": "code",
      "metadata": {
        "colab": {
          "base_uri": "https://localhost:8080/"
        },
        "id": "DaPXh5Wovv5F",
        "outputId": "85a0b7d0-4ac7-4108-f608-e3025763e386"
      },
      "source": [
        "# Problem Statement 1\n",
        "Full_name = \"Dominic Z. Marasigan\"\n",
        "Student_num, Age = 202101628, 19\n",
        "Birthdate = \"July 2, 2002\"\n",
        "Address = \"Blk 74 Lot 25 Sampaguita Village, Brgy. Inocencio, Trece Martires City, Cavite\"\n",
        "Course = \"BS Computer Engineering\"\n",
        "Last_Sem_Gwa = 94\n",
        "\n",
        "print(\"Name:\"+ Full_name)\n",
        "print(\"Student Number:\" +str(Student_num))\n",
        "print(\"Age:\"+ str(Age))\n",
        "print(\"Birthday:\" + Birthdate)\n",
        "print(\"Course:\" + Course)\n",
        "print(\"Last Semeter GWA:\" + str(Last_Sem_Gwa))"
      ],
      "execution_count": 4,
      "outputs": [
        {
          "output_type": "stream",
          "name": "stdout",
          "text": [
            "Name:Dominic Z. Marasigan\n",
            "Student Number:202101628\n",
            "Age:19\n",
            "Birthday:July 2, 2002\n",
            "Course:BS Computer Engineering\n",
            "Last Semeter GWA:94\n"
          ]
        }
      ]
    },
    {
      "cell_type": "code",
      "metadata": {
        "colab": {
          "base_uri": "https://localhost:8080/"
        },
        "id": "ljptnzXIvwpj",
        "outputId": "f31e4c07-1ff0-4ed4-b162-b69d9849b82c"
      },
      "source": [
        "#Problem Statement 2\n",
        "n = 4\n",
        "answ = \"Y\"\n",
        "#a\n",
        "print((2<n) and (n<6))\n",
        "#b\n",
        "print((2<n) or (n == 6))\n",
        "#c\n",
        "print((not 2<n) or (n == 6)) \n",
        "#d\n",
        "print(not n <6) \n",
        "#e\n",
        "print((answ==\"Y\") or (answ==\"y\")) \n",
        "#f\n",
        "print((answ==\"y\") and (answ==\"y\"))\n",
        "#g\n",
        "print(not answ==\"y\") \n",
        "#h\n",
        "print((2<n) and (n== 5+ 1) or (answ==\"No\"))\n",
        "#i\n",
        "print((n==2) and (n==7) or (answ == \"y\"))\n",
        "#j\n",
        "print(((n==2) and (n == 7)) or (answ == \"Y\"))"
      ],
      "execution_count": 9,
      "outputs": [
        {
          "output_type": "stream",
          "name": "stdout",
          "text": [
            "True\n",
            "True\n",
            "False\n",
            "False\n",
            "True\n",
            "False\n",
            "True\n",
            "False\n",
            "False\n",
            "True\n"
          ]
        }
      ]
    },
    {
      "cell_type": "code",
      "metadata": {
        "id": "CV6H35BBvzbJ"
      },
      "source": [
        "# Problem Statement 3\n",
        "x, y ,w, z = 2, -3, 7, -10\n",
        "print(\"x/y is\",x/y\t)\n",
        "print(\"w/y/k is\",\tw/y/x\t)\n",
        "print(\"z/y%x\tis\", z/y%x)\n",
        "print(\"x%-y*w is\", \tx%-y*w)\n",
        "print(\"x%y is \",x%y)\n",
        "print(\"z%w-y/x*5+5 is\",  z%w-y/x*5+5)\n",
        "print(\"9-x%(2+y) is\", 9-x%(2+y))\n",
        "print(\" z//w is \", z//w)\n",
        "print(\"(2+y)**2 is\", (2+y)**2)\n",
        "print(\"w/x*2 is \", w/x*2)"
      ],
      "execution_count": null,
      "outputs": []
    }
  ]
}