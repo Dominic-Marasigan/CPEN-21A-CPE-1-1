{
  "nbformat": 4,
  "nbformat_minor": 0,
  "metadata": {
    "colab": {
      "name": "Demo1.ipynb",
      "provenance": [],
      "authorship_tag": "ABX9TyPaLHsJ1oDI5eeSJLV5NDgf",
      "include_colab_link": true
    },
    "kernelspec": {
      "name": "python3",
      "display_name": "Python 3"
    },
    "language_info": {
      "name": "python"
    }
  },
  "cells": [
    {
      "cell_type": "markdown",
      "metadata": {
        "id": "view-in-github",
        "colab_type": "text"
      },
      "source": [
        "<a href=\"https://colab.research.google.com/github/Dominic-Marasigan/CPEN-21A-CPE-1-1/blob/main/Demo1.ipynb\" target=\"_parent\"><img src=\"https://colab.research.google.com/assets/colab-badge.svg\" alt=\"Open In Colab\"/></a>"
      ]
    },
    {
      "cell_type": "markdown",
      "metadata": {
        "id": "YK0jHZi9rsAB"
      },
      "source": [
        "###Introduction to Python Programming"
      ]
    },
    {
      "cell_type": "markdown",
      "metadata": {
        "id": "fQkvO988rzL6"
      },
      "source": [
        "Dominic Z. Marasigan"
      ]
    },
    {
      "cell_type": "code",
      "metadata": {
        "colab": {
          "base_uri": "https://localhost:8080/"
        },
        "id": "y80JnkuTr2pp",
        "outputId": "7b2288a9-a472-46d3-967d-ebdc63cca8a0"
      },
      "source": [
        "a = 'Dominic'\n",
        "A = 'Drake'\n",
        "print(a)\n",
        "print (A)"
      ],
      "execution_count": 44,
      "outputs": [
        {
          "output_type": "stream",
          "name": "stdout",
          "text": [
            "Dominic\n",
            "Drake\n"
          ]
        }
      ]
    },
    {
      "cell_type": "code",
      "metadata": {
        "colab": {
          "base_uri": "https://localhost:8080/"
        },
        "id": "ljLnz9-Vr8SY",
        "outputId": "07a03ca8-1b0f-4936-ec80-14d03c6f9b03"
      },
      "source": [
        "b = \"Dominic\"\n",
        "print (type(b))"
      ],
      "execution_count": 36,
      "outputs": [
        {
          "output_type": "stream",
          "name": "stdout",
          "text": [
            "<class 'str'>\n"
          ]
        }
      ]
    },
    {
      "cell_type": "code",
      "metadata": {
        "colab": {
          "base_uri": "https://localhost:8080/"
        },
        "id": "89scZyRor_Wo",
        "outputId": "148d1b08-3378-498e-ffee-3460b54d2dbb"
      },
      "source": [
        "a, b, c = 0, 1, 2\n",
        "print(a)\n",
        "print(b)\n",
        "print(c)"
      ],
      "execution_count": 37,
      "outputs": [
        {
          "output_type": "stream",
          "name": "stdout",
          "text": [
            "0\n",
            "1\n",
            "2\n"
          ]
        }
      ]
    },
    {
      "cell_type": "code",
      "metadata": {
        "colab": {
          "base_uri": "https://localhost:8080/"
        },
        "id": "ValF32xNsCro",
        "outputId": "29b34eac-0703-4c87-f8ee-ede38baf6b81"
      },
      "source": [
        "a, b, c = 0, 1, 2\n",
        "print(a)          # This is a program using type function.\n",
        "print(b)\n",
        "print(c)"
      ],
      "execution_count": 38,
      "outputs": [
        {
          "output_type": "stream",
          "name": "stdout",
          "text": [
            "0\n",
            "1\n",
            "2\n"
          ]
        }
      ]
    },
    {
      "cell_type": "code",
      "metadata": {
        "colab": {
          "base_uri": "https://localhost:8080/"
        },
        "id": "cQDKLuQUsDPo",
        "outputId": "d3192d68-6e6c-4ee7-f4ae-6dc4e1c47605"
      },
      "source": [
        "a = float(4)\n",
        "print(a)"
      ],
      "execution_count": 39,
      "outputs": [
        {
          "output_type": "stream",
          "name": "stdout",
          "text": [
            "4.0\n"
          ]
        }
      ]
    },
    {
      "cell_type": "code",
      "metadata": {
        "colab": {
          "base_uri": "https://localhost:8080/"
        },
        "id": "7oR4J_JcsFlS",
        "outputId": "2c7f08b7-3147-4eb0-bd39-246b978953f0"
      },
      "source": [
        "a,b,c, = 0,1,2\n",
        "print(type(a))"
      ],
      "execution_count": 40,
      "outputs": [
        {
          "output_type": "stream",
          "name": "stdout",
          "text": [
            "<class 'int'>\n"
          ]
        }
      ]
    },
    {
      "cell_type": "code",
      "metadata": {
        "colab": {
          "base_uri": "https://localhost:8080/"
        },
        "id": "C918wVWBsLHB",
        "outputId": "0018710b-a23c-438a-e871-089a50ea5128"
      },
      "source": [
        "x = y = z=\"zero\"\n",
        "print(x)\n",
        "print(y)\n",
        "print(z)"
      ],
      "execution_count": 45,
      "outputs": [
        {
          "output_type": "stream",
          "name": "stdout",
          "text": [
            "zero\n",
            "zero\n",
            "zero\n"
          ]
        }
      ]
    },
    {
      "cell_type": "code",
      "metadata": {
        "colab": {
          "base_uri": "https://localhost:8080/"
        },
        "id": "xiEX9vkDsQQq",
        "outputId": "b9940732-0d2d-44fa-c13a-804d7723c2e4"
      },
      "source": [
        "x= \"enjoyable\"\n",
        "print('Python programming is '+ x)"
      ],
      "execution_count": 42,
      "outputs": [
        {
          "output_type": "stream",
          "name": "stdout",
          "text": [
            "Python programming is enjoyable\n"
          ]
        }
      ]
    },
    {
      "cell_type": "code",
      "metadata": {
        "colab": {
          "base_uri": "https://localhost:8080/"
        },
        "id": "p18_bBQlsjtD",
        "outputId": "822d33c7-a277-4485-db65-f723a5ca4f5a"
      },
      "source": [
        "x = -3\n",
        "y = 3\n",
        "z = 4\n",
        "print (x+y)\n",
        "print (x<y)\n",
        "print (not(x<z and z>y))"
      ],
      "execution_count": 43,
      "outputs": [
        {
          "output_type": "stream",
          "name": "stdout",
          "text": [
            "0\n",
            "True\n",
            "False\n"
          ]
        }
      ]
    }
  ]
}