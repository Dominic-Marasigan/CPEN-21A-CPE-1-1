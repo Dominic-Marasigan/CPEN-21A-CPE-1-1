{
  "nbformat": 4,
  "nbformat_minor": 0,
  "metadata": {
    "colab": {
      "name": "Demo1.ipynb",
      "provenance": [],
      "authorship_tag": "ABX9TyPWW5X2/C6rDijNgg6otBf5",
      "include_colab_link": true
    },
    "kernelspec": {
      "name": "python3",
      "display_name": "Python 3"
    },
    "language_info": {
      "name": "python"
    }
  },
  "cells": [
    {
      "cell_type": "markdown",
      "metadata": {
        "id": "view-in-github",
        "colab_type": "text"
      },
      "source": [
        "<a href=\"https://colab.research.google.com/github/Dominic-Marasigan/CPEN-21A-CPE-1-1/blob/main/Demo1.ipynb\" target=\"_parent\"><img src=\"https://colab.research.google.com/assets/colab-badge.svg\" alt=\"Open In Colab\"/></a>"
      ]
    },
    {
      "cell_type": "markdown",
      "metadata": {
        "id": "BAoumf5EmAOc"
      },
      "source": [
        "\n",
        "###Introduction to Python Programming\n",
        "```\n",
        "\n",
        "```\n",
        "\n"
      ]
    },
    {
      "cell_type": "markdown",
      "metadata": {
        "id": "KfPNmdiymK6e"
      },
      "source": [
        "Dominic Z. Marasigan"
      ]
    },
    {
      "cell_type": "markdown",
      "metadata": {
        "id": "uSObXKP9oh_F"
      },
      "source": [
        "BS CpE 1-1"
      ]
    },
    {
      "cell_type": "code",
      "metadata": {
        "colab": {
          "base_uri": "https://localhost:8080/"
        },
        "id": "JepLLUjEmObF",
        "outputId": "684f5f8f-1537-4dcd-93e4-955280947624"
      },
      "source": [
        "x = \"Enjoying\"\n",
        "print(\"Python Programming is\" \" \" + x)  #Is this an example of concatenate?"
      ],
      "execution_count": 17,
      "outputs": [
        {
          "output_type": "stream",
          "name": "stdout",
          "text": [
            "Python Programming is Enjoying\n"
          ]
        }
      ]
    },
    {
      "cell_type": "code",
      "metadata": {
        "colab": {
          "base_uri": "https://localhost:8080/"
        },
        "id": "L2wU8_EimiRU",
        "outputId": "fcdd76ef-f6de-4449-bb3f-ab0369cb132b"
      },
      "source": [
        "a = \"Complete\"\n",
        "b =  \"Not\"\n",
        "print( \"My work is\" \" \" + a)"
      ],
      "execution_count": 18,
      "outputs": [
        {
          "output_type": "stream",
          "name": "stdout",
          "text": [
            "My work is Complete\n"
          ]
        }
      ]
    },
    {
      "cell_type": "code",
      "metadata": {
        "colab": {
          "base_uri": "https://localhost:8080/"
        },
        "id": "AHBNK0JbhFRl",
        "outputId": "670a23b4-27d4-479b-a8ff-6669f3bbbd2a"
      },
      "source": [
        "a = b = c = 12\n",
        "d = 1\n",
        "(a>d and a==c )"
      ],
      "execution_count": 19,
      "outputs": [
        {
          "output_type": "execute_result",
          "data": {
            "text/plain": [
              "True"
            ]
          },
          "metadata": {},
          "execution_count": 19
        }
      ]
    },
    {
      "cell_type": "code",
      "metadata": {
        "colab": {
          "base_uri": "https://localhost:8080/"
        },
        "id": "VJu72lEaksRO",
        "outputId": "45503bca-356a-4263-92fe-6214f3e5d8a9"
      },
      "source": [
        "a = 1\n",
        "b= 3\n",
        "print(a+b)"
      ],
      "execution_count": 20,
      "outputs": [
        {
          "output_type": "stream",
          "name": "stdout",
          "text": [
            "4\n"
          ]
        }
      ]
    },
    {
      "cell_type": "code",
      "metadata": {
        "colab": {
          "base_uri": "https://localhost:8080/"
        },
        "id": "CWLmJBD1nv5V",
        "outputId": "99f9ddae-7ecc-4070-aa58-22d2ca9c9b62"
      },
      "source": [
        "name =(\"Dominic \")\n",
        "if name ==(\"Drake\"):\n",
        "  print (\"Hindi ka si Dominicl\")\n",
        "else:\n",
        "  print(\"Ikaw si Dominic\")"
      ],
      "execution_count": 21,
      "outputs": [
        {
          "output_type": "stream",
          "name": "stdout",
          "text": [
            "Ikaw si Dominic\n"
          ]
        }
      ]
    },
    {
      "cell_type": "code",
      "metadata": {
        "colab": {
          "base_uri": "https://localhost:8080/"
        },
        "id": "DdjUA6bZk8CN",
        "outputId": "8b6b0917-10a9-4def-fba9-f4f5b03ff9ff"
      },
      "source": [
        "a, b, c, = 0,1,2,\n",
        "print(a)\n",
        "print(b)\n",
        "print(c)\n",
        "print (int(a))"
      ],
      "execution_count": 22,
      "outputs": [
        {
          "output_type": "stream",
          "name": "stdout",
          "text": [
            "0\n",
            "1\n",
            "2\n",
            "0\n"
          ]
        }
      ]
    }
  ]
}